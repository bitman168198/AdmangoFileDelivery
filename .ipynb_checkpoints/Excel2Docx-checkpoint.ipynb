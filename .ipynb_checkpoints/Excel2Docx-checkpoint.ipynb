{
 "cells": [
  {
   "cell_type": "code",
   "execution_count": 81,
   "metadata": {},
   "outputs": [],
   "source": [
    "import pandas as pd\n",
    "import docx\n",
    "import csv\n",
    "import os\n",
    "import shutil"
   ]
  },
  {
   "cell_type": "code",
   "execution_count": 82,
   "metadata": {},
   "outputs": [
    {
     "name": "stdout",
     "output_type": "stream",
     "text": [
      "c:\\projects\\hc2\\DTT Commercial Log (1 Nov - 17 Nov, 2019).xlsx\n"
     ]
    }
   ],
   "source": [
    "import os\n",
    "\n",
    "path = 'c:\\\\projects\\\\hc2\\\\'\n",
    "log_path ='c:\\\\projects\\\\log\\\\'\n",
    "\n",
    "files = []\n",
    "# r=root, d=directories, f = files\n",
    "for r, d, f in os.walk(path):\n",
    "    for file in f:\n",
    "        if '.xlsx' in file:\n",
    "            files.append(os.path.join(r, file))\n",
    "\n",
    "for f in files:\n",
    "    print(f)"
   ]
  },
  {
   "cell_type": "code",
   "execution_count": 83,
   "metadata": {},
   "outputs": [],
   "source": [
    "ExcelFile= f\n",
    "csvFile= ExcelFile[:-4]+'csv'\n",
    "docFile= ExcelFile[:-4]+'docx'\n",
    "Token ='TokenFile.docx'"
   ]
  },
  {
   "cell_type": "code",
   "execution_count": 84,
   "metadata": {},
   "outputs": [],
   "source": [
    "def CopyFile(source,destination):\n",
    "    try: \n",
    "        shutil.copyfile(source, destination) \n",
    "        print(\"File copied successfully.\") \n",
    "\n",
    "    # If source and destination are same \n",
    "    except shutil.SameFileError: \n",
    "        print(\"Source and destination represents the same file.\") \n",
    "\n",
    "    # If destination is a directory. \n",
    "    except IsADirectoryError: \n",
    "        print(\"Destination is a directory.\") \n",
    "\n",
    "    # If there is any permission issue \n",
    "    except PermissionError: \n",
    "        print(\"Permission denied.\") \n",
    "\n",
    "    # For other errors \n",
    "    except: \n",
    "        print(\"Error occurred while copying file.\") "
   ]
  },
  {
   "cell_type": "code",
   "execution_count": 85,
   "metadata": {},
   "outputs": [],
   "source": [
    "df = pd.read_excel(ExcelFile, sheet_name='Page1_1',header= 1)"
   ]
  },
  {
   "cell_type": "code",
   "execution_count": 86,
   "metadata": {},
   "outputs": [],
   "source": [
    "df.to_csv(csvFile,sep= '\\t')"
   ]
  },
  {
   "cell_type": "code",
   "execution_count": 87,
   "metadata": {},
   "outputs": [],
   "source": [
    "f = open(csvFile,\"r\")\n",
    "s=f.read()\n",
    "f.close()"
   ]
  },
  {
   "cell_type": "code",
   "execution_count": 88,
   "metadata": {},
   "outputs": [
    {
     "name": "stdout",
     "output_type": "stream",
     "text": [
      "File copied successfully.\n"
     ]
    }
   ],
   "source": [
    "CopyFile(Token,docFile)"
   ]
  },
  {
   "cell_type": "code",
   "execution_count": 89,
   "metadata": {},
   "outputs": [],
   "source": [
    "doc=docx.Document(docFile)\n",
    "doc.add_paragraph(s)\n",
    "doc.save(docFile)"
   ]
  },
  {
   "cell_type": "code",
   "execution_count": 90,
   "metadata": {},
   "outputs": [
    {
     "data": {
      "text/plain": [
       "'c:\\\\projects\\\\log\\\\DTT Commercial Log (1 Nov - 17 Nov, 2019).xlsx'"
      ]
     },
     "execution_count": 90,
     "metadata": {},
     "output_type": "execute_result"
    }
   ],
   "source": [
    "shutil.move(ExcelFile,log_path)"
   ]
  },
  {
   "cell_type": "code",
   "execution_count": 91,
   "metadata": {},
   "outputs": [],
   "source": [
    "os.remove(docFile)\n",
    "os.remove(csvFile)"
   ]
  },
  {
   "cell_type": "code",
   "execution_count": null,
   "metadata": {},
   "outputs": [],
   "source": []
  },
  {
   "cell_type": "code",
   "execution_count": null,
   "metadata": {},
   "outputs": [],
   "source": []
  },
  {
   "cell_type": "code",
   "execution_count": null,
   "metadata": {},
   "outputs": [],
   "source": []
  },
  {
   "cell_type": "code",
   "execution_count": 8,
   "metadata": {},
   "outputs": [],
   "source": []
  }
 ],
 "metadata": {
  "kernelspec": {
   "display_name": "Python 3",
   "language": "python",
   "name": "python3"
  },
  "language_info": {
   "codemirror_mode": {
    "name": "ipython",
    "version": 3
   },
   "file_extension": ".py",
   "mimetype": "text/x-python",
   "name": "python",
   "nbconvert_exporter": "python",
   "pygments_lexer": "ipython3",
   "version": "3.7.4"
  }
 },
 "nbformat": 4,
 "nbformat_minor": 2
}
